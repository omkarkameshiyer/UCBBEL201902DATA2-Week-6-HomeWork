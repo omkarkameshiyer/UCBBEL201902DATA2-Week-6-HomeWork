{
 "cells": [
  {
   "cell_type": "markdown",
   "metadata": {},
   "source": [
    "# WeatherPy\n",
    "----\n",
    "\n",
    "### Analysis\n",
    "* As expected, the weather becomes significantly warmer as one approaches the equator (0 Deg. Latitude). More interestingly, however, is the fact that the southern hemisphere tends to be warmer this time of year than the northern hemisphere. This may be due to the tilt of the earth.\n",
    "* There is no strong relationship between latitude and cloudiness. However, it is interesting to see that a strong band of cities sits at 0, 80, and 100% cloudiness.\n",
    "* There is no strong relationship between latitude and wind speed. However, in northern hemispheres there is a flurry of cities with over 20 mph of wind.\n",
    "\n",
    "---\n",
    "\n",
    "#### Note\n",
    "* Instructions have been included for each segment. You do not have to follow them exactly, but they are included to help you think through the steps."
   ]
  },
  {
   "cell_type": "code",
   "execution_count": 16,
   "metadata": {
    "scrolled": true
   },
   "outputs": [
    {
     "name": "stdout",
     "output_type": "stream",
     "text": [
      "Requirement already satisfied: citipy in /anaconda3/envs/PythonData/lib/python3.6/site-packages (0.0.5)\r\n",
      "Requirement already satisfied: kdtree>=0.12 in /anaconda3/envs/PythonData/lib/python3.6/site-packages (from citipy) (0.16)\r\n"
     ]
    }
   ],
   "source": [
    "# Dependencies and Setup\n",
    "\n",
    "import sys\n",
    "!{sys.executable} -m pip install citipy\n",
    "\n",
    "import matplotlib.pyplot as plt\n",
    "import pandas as pd\n",
    "import numpy as np\n",
    "import requests\n",
    "import time\n",
    "import seaborn as sns\n",
    "\n",
    "# Import API key\n",
    "from api_keys import api_key\n",
    "\n",
    "# Incorporated citipy to determine city based on latitude and longitude\n",
    "from citipy import citipy\n",
    "\n",
    "# Output File (CSV)\n",
    "output_data_file = \"output_data/cities.csv\"\n",
    "\n",
    "# Range of latitudes and longitudes\n",
    "lat_range = (-90, 90)\n",
    "lng_range = (-180, 180)"
   ]
  },
  {
   "cell_type": "markdown",
   "metadata": {},
   "source": [
    "## Generate Cities List"
   ]
  },
  {
   "cell_type": "code",
   "execution_count": 17,
   "metadata": {},
   "outputs": [
    {
     "data": {
      "text/plain": [
       "610"
      ]
     },
     "execution_count": 17,
     "metadata": {},
     "output_type": "execute_result"
    }
   ],
   "source": [
    "# List for holding lat_lngs and cities\n",
    "lat_lngs = []\n",
    "cities = []\n",
    "valid_lat= []\n",
    "valid_lang= []\n",
    "# Create a set of random lat and lng combinations\n",
    "lats = np.random.uniform(low=-90.000, high=90.000, size=1500)\n",
    "lngs = np.random.uniform(low=-180.000, high=180.000, size=1500)\n",
    "lat_lngs = zip(lats, lngs)\n",
    "\n",
    "# Identify nearest city for each lat, lng combination\n",
    "for lat_lng in lat_lngs:\n",
    "    city = citipy.nearest_city(lat_lng[0], lat_lng[1]).city_name\n",
    "    \n",
    "    # If the city is unique, then add it to a our cities list\n",
    "    if city not in cities:\n",
    "        cities.append(city)\n",
    "        valid_lat.append(lat_lng[0])\n",
    "        valid_lang.append(lat_lng[1])\n",
    "# Print the city count to confirm sufficient count\n",
    "len(cities)"
   ]
  },
  {
   "cell_type": "markdown",
   "metadata": {},
   "source": [
    "### Perform API Calls\n",
    "* Perform a weather check on each city using a series of successive API calls.\n",
    "* Include a print log of each city as it'sbeing processed (with the city number and city name).\n"
   ]
  },
  {
   "cell_type": "code",
   "execution_count": null,
   "metadata": {},
   "outputs": [
    {
     "name": "stdout",
     "output_type": "stream",
     "text": [
      "checking for codrington\n",
      "city is good to go\n",
      "checking for ushuaia\n",
      "city is good to go\n",
      "checking for ozgon\n",
      "City not found. Skipping...\n",
      "checking for bull savanna\n",
      "city is good to go\n",
      "checking for dikson\n",
      "city is good to go\n",
      "checking for new norfolk\n",
      "city is good to go\n",
      "checking for jamestown\n",
      "city is good to go\n",
      "checking for clinton\n",
      "city is good to go\n",
      "checking for shimoda\n",
      "city is good to go\n",
      "checking for port alfred\n"
     ]
    }
   ],
   "source": [
    "#http://api.openweathermap.org/data/2.5/weather?lat=35&lon=139&appid=f55a8c7c8d1fc7575c40013616c13f25&units=metric\n",
    "\"\"\"\n",
    "{  \n",
    "   \"coord\":{  \n",
    "      \"lon\":-73.99,\n",
    "      \"lat\":40.73\n",
    "   },\n",
    "   \"weather\":[  \n",
    "      {  \n",
    "         \"id\":803,\n",
    "         \"main\":\"Clouds\",\n",
    "         \"description\":\"broken clouds\",\n",
    "         \"icon\":\"04n\"\n",
    "      }\n",
    "   ],\n",
    "   \"base\":\"stations\",\n",
    "   \"main\":{  \n",
    "      \"temp\":275.93,\n",
    "      \"pressure\":1027,\n",
    "      \"humidity\":35,\n",
    "      \"temp_min\":273.15,\n",
    "      \"temp_max\":278.71\n",
    "   },\n",
    "   \"visibility\":16093,\n",
    "   \"wind\":{  \n",
    "      \"speed\":2.27,\n",
    "      \"deg\":204.504\n",
    "   },\n",
    "   \"clouds\":{  \n",
    "      \"all\":75\n",
    "   },\n",
    "   \"dt\":1552962588,\n",
    "   \"sys\":{  \n",
    "      \"type\":1,\n",
    "      \"id\":4686,\n",
    "      \"message\":0.0099,\n",
    "      \"country\":\"US\",\n",
    "      \"sunrise\":1552906985,\n",
    "      \"sunset\":1552950306\n",
    "   },\n",
    "   \"id\":5128581,\n",
    "   \"name\":\"New York\",\n",
    "   \"cod\":200\n",
    "}\n",
    "\n",
    "\"\"\"\n",
    "urlPart = \"http://api.openweathermap.org/data/2.5/weather?q=\"\n",
    "secondPart = \"&appid=\"+str(api_key)+\"&units=metric\"\n",
    "\n",
    "finalCsv = \"City,Cloudiness,Country,Date,Humidity,Lat,Lng,Max Temp,Wind Speed\"+\"\\n\"\n",
    "OverallList = []\n",
    "indexForSubCount = 0\n",
    "for city in cities:\n",
    "    if indexForSubCount < 10:\n",
    "        print(\"checking for \"+city)\n",
    "    jsonData = requests.get(urlPart+city+secondPart).json()\n",
    "    indexForSubCount = indexForSubCount + 1\n",
    "    if jsonData['cod'] == 200 :\n",
    "        if indexForSubCount < 10:\n",
    "            print(\"city is good to go\")\n",
    "        City=jsonData[\"name\"]\n",
    "        Cloudiness=jsonData[\"clouds\"][\"all\"]\n",
    "        Country=jsonData[\"sys\"][\"country\"]\n",
    "        Date=jsonData[\"dt\"]\n",
    "        Humidity=jsonData[\"main\"][\"humidity\"]\n",
    "        Lat= jsonData[\"coord\"][\"lon\"]\n",
    "        Lng=jsonData[\"coord\"][\"lat\"]\n",
    "        Max_Temp=jsonData[\"main\"][\"temp_max\"]\n",
    "        Wind_Speed=jsonData[\"wind\"][\"speed\"]\n",
    "        OverallList.append([City,Cloudiness,Country,Date,Humidity,Lat,Lng,Max_Temp,Wind_Speed])\n",
    "    else:\n",
    "        if indexForSubCount < 10:\n",
    "            print(\"City not found. Skipping...\")\n",
    "    \n",
    "    \n",
    "\n"
   ]
  },
  {
   "cell_type": "markdown",
   "metadata": {},
   "source": [
    "### Convert Raw Data to DataFrame\n",
    "* Export the city data into a .csv.\n",
    "* Display the DataFrame"
   ]
  },
  {
   "cell_type": "code",
   "execution_count": null,
   "metadata": {},
   "outputs": [],
   "source": [
    "#\"City,Cloudiness,Country,Date,Humidity,Lat,Lng,Max Temp,Wind Speed\"\n",
    "dataFrameWithData = pd.DataFrame(OverallList,\n",
    "                                 columns = [\"City\",\"Cloudiness\",\n",
    "                                            \"Country\",\"Date\",\"Humidity\",\"Lat\",\"Lng\",\"Max Temp\",\"Wind Speed\"])\n",
    "dataFrameWithData.to_csv(\"output.csv\", sep='\\t')"
   ]
  },
  {
   "cell_type": "code",
   "execution_count": null,
   "metadata": {},
   "outputs": [],
   "source": []
  },
  {
   "cell_type": "markdown",
   "metadata": {},
   "source": [
    "### Plotting the Data\n",
    "* Use proper labeling of the plots using plot titles (including date of analysis) and axes labels.\n",
    "* Save the plotted figures as .pngs."
   ]
  },
  {
   "cell_type": "markdown",
   "metadata": {},
   "source": [
    "#### Latitude vs. Temperature Plot"
   ]
  },
  {
   "cell_type": "code",
   "execution_count": null,
   "metadata": {},
   "outputs": [],
   "source": [
    "#plt.plot(dataFrameWithData['Lat'], dataFrameWithData[\"Max Temp\"], 'o', color='black');\n",
    "#plt.xlabel('latitude', fontsize=18)\n",
    "#plt.ylabel('temperature', fontsize=16)\n",
    "\n",
    "sns.swarmplot(x='Lat', y='Max Temp', data=dataFrameWithData[['Max Temp','Lat']])\n",
    "plt.figure(1)\n",
    "\n",
    "dataFrameWithData[['Max Temp','Lat']].plot(\n",
    "    kind='scatter', \n",
    "    x='Lat', \n",
    "    y='Max Temp', \n",
    "    title='Temp in World Cities', \n",
    "    grid=True,\n",
    ")\n"
   ]
  },
  {
   "cell_type": "markdown",
   "metadata": {},
   "source": [
    "#### Latitude vs. Humidity Plot"
   ]
  },
  {
   "cell_type": "code",
   "execution_count": null,
   "metadata": {},
   "outputs": [],
   "source": [
    "plt.figure(2)\n",
    "sns.swarmplot(x='Lat', y='Humidity', data=dataFrameWithData[['Humidity','Lat']])\n",
    "\n",
    "plt.figure(3)\n",
    "\n",
    "dataFrameWithData[['Humidity','Lat']].plot(\n",
    "    kind='scatter', \n",
    "    x='Lat', \n",
    "    y='Humidity', \n",
    "    title='Humidity in World Cities', \n",
    "    grid=True,\n",
    ")"
   ]
  },
  {
   "cell_type": "markdown",
   "metadata": {},
   "source": [
    "#### Latitude vs. Cloudiness Plot"
   ]
  },
  {
   "cell_type": "code",
   "execution_count": null,
   "metadata": {},
   "outputs": [],
   "source": [
    "plt.figure(4)\n",
    "sns.swarmplot(x='Lat', y='Cloudiness', data=dataFrameWithData[['Cloudiness','Lat']])\n",
    "\n",
    "plt.figure(5)\n",
    "\n",
    "dataFrameWithData[['Cloudiness','Lat']].plot(\n",
    "    kind='scatter', \n",
    "    x='Lat', \n",
    "    y='Cloudiness', \n",
    "    title='Cloudiness in World Cities', \n",
    "    grid=True,\n",
    ")\n"
   ]
  },
  {
   "cell_type": "markdown",
   "metadata": {},
   "source": [
    "#### Latitude vs. Wind Speed Plot"
   ]
  },
  {
   "cell_type": "code",
   "execution_count": null,
   "metadata": {},
   "outputs": [],
   "source": [
    "plt.figure(6)\n",
    "\n",
    "sns.swarmplot(x='Lat', y='Wind Speed', data=dataFrameWithData[['Wind Speed','Lat']])\n",
    "\n",
    "plt.figure(7)\n",
    "\n",
    "dataFrameWithData[['Wind Speed','Lat']].plot(\n",
    "    kind='scatter', \n",
    "    x='Lat', \n",
    "    y='Wind Speed', \n",
    "    title='Cloudiness in World Cities', \n",
    "    grid=True,\n",
    ")\n"
   ]
  },
  {
   "cell_type": "code",
   "execution_count": null,
   "metadata": {},
   "outputs": [],
   "source": []
  }
 ],
 "metadata": {
  "anaconda-cloud": {},
  "kernel_info": {
   "name": "python3"
  },
  "kernelspec": {
   "display_name": "Python 3",
   "language": "python",
   "name": "python3"
  },
  "language_info": {
   "codemirror_mode": {
    "name": "ipython",
    "version": 3
   },
   "file_extension": ".py",
   "mimetype": "text/x-python",
   "name": "python",
   "nbconvert_exporter": "python",
   "pygments_lexer": "ipython3",
   "version": "3.6.7"
  },
  "nteract": {
   "version": "0.12.3"
  }
 },
 "nbformat": 4,
 "nbformat_minor": 2
}
